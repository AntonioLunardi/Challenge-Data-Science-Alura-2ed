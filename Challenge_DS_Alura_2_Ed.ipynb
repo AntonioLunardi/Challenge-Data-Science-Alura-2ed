{
  "nbformat": 4,
  "nbformat_minor": 0,
  "metadata": {
    "colab": {
      "provenance": [],
      "mount_file_id": "1MSjHNIaC4KEtrPTZExtQLu99sdvxp_i2",
      "authorship_tag": "ABX9TyNfo5/ebFHM7MrePpRoM37w",
      "include_colab_link": true
    },
    "kernelspec": {
      "name": "python3",
      "display_name": "Python 3"
    },
    "language_info": {
      "name": "python"
    }
  },
  "cells": [
    {
      "cell_type": "markdown",
      "metadata": {
        "id": "view-in-github",
        "colab_type": "text"
      },
      "source": [
        "<a href=\"https://colab.research.google.com/github/AntonioLunardi/Challenge-Data-Science-Alura-2ed/blob/main/Challenge_DS_Alura_2_Ed.ipynb\" target=\"_parent\"><img src=\"https://colab.research.google.com/assets/colab-badge.svg\" alt=\"Open In Colab\"/></a>"
      ]
    },
    {
      "cell_type": "markdown",
      "source": [
        "# 0.0 Inicialização do PySpark e importação do dataset"
      ],
      "metadata": {
        "id": "sHaXq2O_o5Hu"
      }
    },
    {
      "cell_type": "code",
      "execution_count": 26,
      "metadata": {
        "colab": {
          "base_uri": "https://localhost:8080/"
        },
        "id": "-_cdk6bMVFYA",
        "outputId": "602023f6-b147-4d73-e99b-c11ae4785ebe"
      },
      "outputs": [
        {
          "output_type": "stream",
          "name": "stdout",
          "text": [
            "Looking in indexes: https://pypi.org/simple, https://us-python.pkg.dev/colab-wheels/public/simple/\n",
            "Requirement already satisfied: pyspark==3.3.1 in /usr/local/lib/python3.8/dist-packages (3.3.1)\n",
            "Requirement already satisfied: py4j==0.10.9.5 in /usr/local/lib/python3.8/dist-packages (from pyspark==3.3.1) (0.10.9.5)\n"
          ]
        }
      ],
      "source": [
        "!pip install pyspark==3.3.1"
      ]
    },
    {
      "cell_type": "code",
      "source": [
        "!apt-get install openjdk-8-jdk-headless -qq > /dev/null"
      ],
      "metadata": {
        "id": "VJfWjVVsVF_a"
      },
      "execution_count": 27,
      "outputs": []
    },
    {
      "cell_type": "code",
      "source": [
        "!wget -q https://dlcdn.apache.org/spark/spark-3.3.1/spark-3.3.1-bin-hadoop3.tgz"
      ],
      "metadata": {
        "id": "_fLMXxXEVTjT"
      },
      "execution_count": 28,
      "outputs": []
    },
    {
      "cell_type": "code",
      "source": [
        "!tar xf spark-3.3.1-bin-hadoop3.tgz"
      ],
      "metadata": {
        "id": "ADw2Jw9tVZef"
      },
      "execution_count": 29,
      "outputs": []
    },
    {
      "cell_type": "code",
      "source": [
        "!pip install -q findspark"
      ],
      "metadata": {
        "id": "6AJsksgaVc0V"
      },
      "execution_count": 30,
      "outputs": []
    },
    {
      "cell_type": "code",
      "source": [
        "import os\n",
        "os.environ[\"JAVA_HOME\"] = \"/usr/lib/jvm/java-8-openjdk-amd64\"\n",
        "os.environ[\"SPARK_HOME\"] = \"/content/spark-3.3.1-bin-hadoop3\""
      ],
      "metadata": {
        "id": "VxM5E8VwVfZ6"
      },
      "execution_count": 31,
      "outputs": []
    },
    {
      "cell_type": "code",
      "source": [
        "import findspark\n",
        "findspark.init()"
      ],
      "metadata": {
        "id": "9_DTMV1DVo3r"
      },
      "execution_count": 32,
      "outputs": []
    },
    {
      "cell_type": "code",
      "source": [
        "from pyspark.sql import SparkSession"
      ],
      "metadata": {
        "id": "mItsXf6XVtCC"
      },
      "execution_count": 33,
      "outputs": []
    },
    {
      "cell_type": "code",
      "source": [
        "spark = SparkSession.builder \\\n",
        "    .master('local[*]') \\\n",
        "    .appName('Iniciando com Spark') \\\n",
        "    .config('spark.ui.port', '4050') \\\n",
        "    .getOrCreate()"
      ],
      "metadata": {
        "id": "eI6Jrx94V2dQ"
      },
      "execution_count": 34,
      "outputs": []
    },
    {
      "cell_type": "code",
      "source": [
        "spark"
      ],
      "metadata": {
        "colab": {
          "base_uri": "https://localhost:8080/",
          "height": 0
        },
        "id": "A1BfGw5qV5s2",
        "outputId": "f09cad62-47a3-48d1-8f2e-d3ab76d24d10"
      },
      "execution_count": 35,
      "outputs": [
        {
          "output_type": "execute_result",
          "data": {
            "text/plain": [
              "<pyspark.sql.session.SparkSession at 0x7fd343626250>"
            ],
            "text/html": [
              "\n",
              "            <div>\n",
              "                <p><b>SparkSession - in-memory</b></p>\n",
              "                \n",
              "        <div>\n",
              "            <p><b>SparkContext</b></p>\n",
              "\n",
              "            <p><a href=\"http://11045efc29bc:4050\">Spark UI</a></p>\n",
              "\n",
              "            <dl>\n",
              "              <dt>Version</dt>\n",
              "                <dd><code>v3.3.1</code></dd>\n",
              "              <dt>Master</dt>\n",
              "                <dd><code>local[*]</code></dd>\n",
              "              <dt>AppName</dt>\n",
              "                <dd><code>Iniciando com Spark</code></dd>\n",
              "            </dl>\n",
              "        </div>\n",
              "        \n",
              "            </div>\n",
              "        "
            ]
          },
          "metadata": {},
          "execution_count": 35
        }
      ]
    },
    {
      "cell_type": "code",
      "source": [
        "import json\n",
        "\n",
        "dataset_bruto = spark.read.option('multiline', 'true').json('/content/drive/MyDrive/Alura/Challenge_DS_2ed/dataset_bruto.json')"
      ],
      "metadata": {
        "id": "hc8BuvARdCN1"
      },
      "execution_count": 36,
      "outputs": []
    },
    {
      "cell_type": "markdown",
      "source": [
        "# 1.0 Engenharia de Dados"
      ],
      "metadata": {
        "id": "QhstClYWw0S8"
      }
    },
    {
      "cell_type": "markdown",
      "source": [
        "## 1.1 Visualização inicial"
      ],
      "metadata": {
        "id": "7KN_G18m2yhg"
      }
    },
    {
      "cell_type": "markdown",
      "source": [
        "[Base de dados - InsightPlaces](https://caelum-online-public.s3.amazonaws.com/challenge-spark/semana-1.zip)\n",
        "\n",
        "### Dicionário de Dados - Anuncio\n",
        "\n",
        "| Colunas         | Descrição                                                      |\n",
        "|-----------------|----------------------------------------------------------------|\n",
        "| id              | Código de identificação do anúncio no sistema da InsightPlaces |\n",
        "| tipo_unidade    | Tipo de imóvel (apartamento, casa e outros)                    |\n",
        "| tipo_uso        | Tipo de uso do imóvel (residencial ou comercial)               |\n",
        "| area_total      | Área total do imóvel (construção e terreno)                    |\n",
        "| area_util       | Área construída do imóvel                                      |\n",
        "| quartos         | Quantidade de quartos do imóvel                                |\n",
        "| suites          | Quantidade de suítes do imóvel                                 |\n",
        "| banheiros       | Quantidade de banheiros do imóvel                              |\n",
        "| vaga            | Quantidade de vagas de garagem do imóvel                       |\n",
        "| caracteristicas | Listagem de características do imóvel                          |\n",
        "| andar           | Número do andar do imóvel                                      |\n",
        "| endereco        | Informações sobre o endereço do imóvel                         |\n",
        "| valores         | Informações sobre valores de venda e locação dos imóveis       |"
      ],
      "metadata": {
        "id": "AJrxM1fLcMM6"
      }
    },
    {
      "cell_type": "code",
      "source": [
        "dataset_bruto.printSchema() # Esquema de registro no arquivo JSON"
      ],
      "metadata": {
        "colab": {
          "base_uri": "https://localhost:8080/"
        },
        "id": "Hm641lUmynI-",
        "outputId": "04c36ae8-c9fe-48a3-e710-aa32dbfbf5dc"
      },
      "execution_count": 37,
      "outputs": [
        {
          "output_type": "stream",
          "name": "stdout",
          "text": [
            "root\n",
            " |-- anuncio: struct (nullable = true)\n",
            " |    |-- andar: long (nullable = true)\n",
            " |    |-- area_total: array (nullable = true)\n",
            " |    |    |-- element: string (containsNull = true)\n",
            " |    |-- area_util: array (nullable = true)\n",
            " |    |    |-- element: string (containsNull = true)\n",
            " |    |-- banheiros: array (nullable = true)\n",
            " |    |    |-- element: long (containsNull = true)\n",
            " |    |-- caracteristicas: array (nullable = true)\n",
            " |    |    |-- element: string (containsNull = true)\n",
            " |    |-- endereco: struct (nullable = true)\n",
            " |    |    |-- bairro: string (nullable = true)\n",
            " |    |    |-- cep: string (nullable = true)\n",
            " |    |    |-- cidade: string (nullable = true)\n",
            " |    |    |-- estado: string (nullable = true)\n",
            " |    |    |-- latitude: double (nullable = true)\n",
            " |    |    |-- longitude: double (nullable = true)\n",
            " |    |    |-- pais: string (nullable = true)\n",
            " |    |    |-- rua: string (nullable = true)\n",
            " |    |    |-- zona: string (nullable = true)\n",
            " |    |-- id: string (nullable = true)\n",
            " |    |-- quartos: array (nullable = true)\n",
            " |    |    |-- element: long (containsNull = true)\n",
            " |    |-- suites: array (nullable = true)\n",
            " |    |    |-- element: long (containsNull = true)\n",
            " |    |-- tipo_anuncio: string (nullable = true)\n",
            " |    |-- tipo_unidade: string (nullable = true)\n",
            " |    |-- tipo_uso: string (nullable = true)\n",
            " |    |-- vaga: array (nullable = true)\n",
            " |    |    |-- element: long (containsNull = true)\n",
            " |    |-- valores: array (nullable = true)\n",
            " |    |    |-- element: struct (containsNull = true)\n",
            " |    |    |    |-- condominio: string (nullable = true)\n",
            " |    |    |    |-- iptu: string (nullable = true)\n",
            " |    |    |    |-- tipo: string (nullable = true)\n",
            " |    |    |    |-- valor: string (nullable = true)\n",
            " |-- imagens: array (nullable = true)\n",
            " |    |-- element: struct (containsNull = true)\n",
            " |    |    |-- id: string (nullable = true)\n",
            " |    |    |-- url: string (nullable = true)\n",
            " |-- usuario: struct (nullable = true)\n",
            " |    |-- id: string (nullable = true)\n",
            " |    |-- nome: string (nullable = true)\n",
            "\n"
          ]
        }
      ]
    },
    {
      "cell_type": "code",
      "source": [
        "quantidade_registros = dataset_bruto.count() # Quantidade de registros\n",
        "quantidade_entidades = len(dataset_bruto.columns) # Entidades computadas (structs e arrays)\n",
        "\n",
        "print('Quantidade de registros:', quantidade_registros)\n",
        "print('\\nQuantidade de entidades:', quantidade_entidades)"
      ],
      "metadata": {
        "colab": {
          "base_uri": "https://localhost:8080/"
        },
        "id": "Af_RNiSyzmUa",
        "outputId": "07d68b42-d768-4e96-f422-d8baf2604dd5"
      },
      "execution_count": 38,
      "outputs": [
        {
          "output_type": "stream",
          "name": "stdout",
          "text": [
            "Quantidade de registros: 89083\n",
            "\n",
            "Quantidade de entidades: 3\n"
          ]
        }
      ]
    },
    {
      "cell_type": "markdown",
      "source": [
        "## 1.2 Seleção de features e transformação em colunas"
      ],
      "metadata": {
        "id": "kIGiGfEWpMF1"
      }
    },
    {
      "cell_type": "code",
      "source": [
        "# Transformando os dicionários JSON em colunas e selecionando features:\n",
        "# A pedido do time de ciência de dados, não serão incluídas as colunas de endereço além de bairro e zona\n",
        "\n",
        "dataset_anuncio_com_arrays = dataset_bruto\\\n",
        "  .select('anuncio.andar', 'anuncio.area_total', 'anuncio.area_util', 'anuncio.banheiros', 'anuncio.caracteristicas',\\\n",
        "          'anuncio.endereco.bairro', 'anuncio.endereco.zona', 'anuncio.id','anuncio.quartos', 'anuncio.suites',\\\n",
        "          'anuncio.tipo_anuncio', 'anuncio.tipo_unidade', 'anuncio.tipo_uso', 'anuncio.vaga',\\\n",
        "          'anuncio.valores.condominio', 'anuncio.valores.iptu', 'anuncio.valores.tipo', 'anuncio.valores.valor')\n",
        "\n",
        "dataset_anuncio_com_arrays.show()"
      ],
      "metadata": {
        "colab": {
          "base_uri": "https://localhost:8080/"
        },
        "id": "LliPt_Tjx-lg",
        "outputId": "557c7035-5376-4508-bcff-22ec0e5407f2"
      },
      "execution_count": 39,
      "outputs": [
        {
          "output_type": "stream",
          "name": "stdout",
          "text": [
            "+-----+----------+---------+---------+--------------------+--------------+------------+--------------------+-------+------+------------+------------+-----------+----+----------+------+-------+-------+\n",
            "|andar|area_total|area_util|banheiros|     caracteristicas|        bairro|        zona|                  id|quartos|suites|tipo_anuncio|tipo_unidade|   tipo_uso|vaga|condominio|  iptu|   tipo|  valor|\n",
            "+-----+----------+---------+---------+--------------------+--------------+------------+--------------------+-------+------+------------+------------+-----------+----+----------+------+-------+-------+\n",
            "|    0|        []|     [16]|      [0]|                  []|        Centro|Zona Central|47d553e0-79f2-4a4...|    [0]|   [0]|       Usado|      Outros|  Comercial| [1]|     [260]| [107]|[Venda]|[10000]|\n",
            "|    0|        []|     [14]|      [0]|                  []|        Centro|Zona Central|b6ffbae1-17f6-487...|    [0]|    []|       Usado|      Outros|  Comercial| [0]|     [260]| [107]|[Venda]|[10000]|\n",
            "|    0|    [1026]|   [1026]|      [0]|                  []|Maria da Graça|  Zona Norte|1fb030a5-9e3e-4a1...|    [0]|    []|       Usado|      Outros|  Comercial| [0]|    [null]|[1613]|[Venda]|[10000]|\n",
            "|    0|     [120]|    [120]|      [0]|[Portão eletrônic...|  Campo Grande|  Zona Oeste|ac6cb348-69d6-45a...|    [0]|    []|       Usado|      Outros|Residencial|  []|      [80]|[null]|[Venda]|[10000]|\n",
            "|    0|       [3]|      [3]|      [0]|                  []| São Cristóvão|  Zona Norte|e032b908-ef42-4d4...|    [0]|    []|       Usado|      Outros|Residencial|  []|       [0]|   [0]|[Venda]| [5000]|\n",
            "|    0|      [20]|     [15]|      [1]|                  []|        Centro|Zona Central|df9cf0b8-b972-433...|    [0]|    []|       Usado|      Outros|  Comercial| [1]|     [223]|  [87]|[Venda]|[18500]|\n",
            "|    3|      [43]|     [43]|      [1]|[Academia, Churra...|     Paciência|  Zona Oeste|d2e3a3aa-09b5-45a...|    [2]|    []|       Usado| Apartamento|Residencial| [1]|     [245]|[null]|[Venda]|[15000]|\n",
            "|    2|      [42]|     [42]|      [1]|[Churrasqueira, P...|     Paciência|  Zona Oeste|085bab2c-87ad-452...|    [2]|    []|       Usado| Apartamento|Residencial| [1]|       [0]|   [0]|[Venda]|[15000]|\n",
            "|    0|        []|     [12]|      [0]|[Portaria 24h, El...|        Centro|Zona Central|096ad966-dc36-47b...|    [0]|    []|       Usado|      Outros|  Comercial| [1]|     [250]|[null]|[Venda]|[20000]|\n",
            "|    1|      [41]|     [41]|      [1]|[Portaria 24h, Co...|     Guaratiba|  Zona Oeste|18d22cbe-1b86-476...|    [2]|    []|       Usado| Apartamento|Residencial| [1]|       [0]|   [0]|[Venda]|[20000]|\n",
            "|    3|      [43]|     [43]|      [1]|[Churrasqueira, P...|        Cosmos|  Zona Oeste|bed8a354-9317-442...|    [2]|    []|       Usado| Apartamento|Residencial| [0]|     [285]|[null]|[Venda]|[20000]|\n",
            "|    0|      [10]|      [4]|      [0]|[Elevador, Portar...|        Centro|Zona Central|b7d0fbd3-0b28-420...|    [0]|    []|       Usado|      Outros|  Comercial| [0]|     [200]|  [86]|[Venda]|[11500]|\n",
            "|    0|      [12]|     [12]|      [1]|      [Portaria 24h]|    Copacabana|    Zona Sul|c6571c11-166e-4a4...|    [0]|    []|       Usado|      Outros|  Comercial|  []|     [470]|[null]|[Venda]|[12000]|\n",
            "|    0|      [17]|     [17]|      [0]|          [Elevador]|        Centro|Zona Central|46d5b560-205f-45f...|    [0]|    []|       Usado|      Outros|  Comercial| [1]|     [294]|  [98]|[Venda]|[18000]|\n",
            "|    1|      [32]|     [32]|       []|[Elevador, Condom...|        Centro|Zona Central|db197997-00e6-4d6...|     []|    []|       Usado|      Outros|  Comercial| [1]|     [684]|[null]|[Venda]|[15000]|\n",
            "|    0|        []|     [10]|      [0]|[Elevador, Condom...|         Saúde|Zona Central|835d4338-4aa9-4e4...|    [0]|    []|       Usado|      Outros|  Comercial|  []|       [0]| [120]|[Venda]|[20000]|\n",
            "|    2|      [43]|     [43]|      [1]|[Academia, Churra...|     Guaratiba|  Zona Oeste|12a13315-d67f-48f...|    [2]|    []|       Usado| Apartamento|Residencial| [1]|     [245]|[null]|[Venda]|[15000]|\n",
            "|    3|      [43]|     [43]|      [1]|[Churrasqueira, P...|        Cosmos|  Zona Oeste|a2e6d7a5-0ff0-484...|    [2]|   [0]|       Usado| Apartamento|Residencial| [0]|     [285]|[null]|[Venda]|[20000]|\n",
            "|    3|      [43]|     [43]|      [1]|[Churrasqueira, P...|     Paciência|  Zona Oeste|a6e3173b-c950-4db...|    [2]|    []|       Usado| Apartamento|Residencial| [1]|     [250]|[null]|[Venda]|[15000]|\n",
            "|    3|      [43]|     [43]|      [1]|[Churrasqueira, P...|     Guaratiba|  Zona Oeste|2e6e5dfb-206c-496...|    [2]|   [0]|       Usado| Apartamento|Residencial| [1]|     [245]|[null]|[Venda]|[15000]|\n",
            "+-----+----------+---------+---------+--------------------+--------------+------------+--------------------+-------+------+------------+------------+-----------+----+----------+------+-------+-------+\n",
            "only showing top 20 rows\n",
            "\n"
          ]
        }
      ]
    },
    {
      "cell_type": "code",
      "source": [
        "# Tranformando as colunas de arrays em strings para facilitar as análises e tratamentos\n",
        "\n",
        "from pyspark.sql.functions import concat_ws\n",
        "\n",
        "dataset_anuncio = dataset_anuncio_com_arrays # Trocando a váriável trabalhada\n",
        "\n",
        "dataset_anuncio = dataset_anuncio.withColumn('area_total', concat_ws(',', 'area_total'))\n",
        "dataset_anuncio = dataset_anuncio.withColumn('area_util', concat_ws(',', 'area_util'))\n",
        "dataset_anuncio = dataset_anuncio.withColumn('banheiros', concat_ws(',', 'banheiros'))\n",
        "dataset_anuncio = dataset_anuncio.withColumn('caracteristicas', concat_ws(',', 'caracteristicas'))\n",
        "dataset_anuncio = dataset_anuncio.withColumn('quartos', concat_ws(',', 'quartos'))\n",
        "dataset_anuncio = dataset_anuncio.withColumn('suites', concat_ws(',', 'suites'))\n",
        "dataset_anuncio = dataset_anuncio.withColumn('vaga', concat_ws(',', 'vaga'))\n",
        "dataset_anuncio = dataset_anuncio.withColumn('condominio', concat_ws(',', 'condominio'))\n",
        "dataset_anuncio = dataset_anuncio.withColumn('iptu', concat_ws(',', 'iptu'))\n",
        "dataset_anuncio = dataset_anuncio.withColumn('tipo', concat_ws(',', 'tipo'))\n",
        "dataset_anuncio = dataset_anuncio.withColumn('valor', concat_ws(',', 'valor'))\n",
        "\n",
        "dataset_anuncio.show() # Dataset após as modificações"
      ],
      "metadata": {
        "id": "GnHfreVblM9s",
        "colab": {
          "base_uri": "https://localhost:8080/"
        },
        "outputId": "1dec698c-0b7c-4a8e-8588-9aa41fceec16"
      },
      "execution_count": 40,
      "outputs": [
        {
          "output_type": "stream",
          "name": "stdout",
          "text": [
            "+-----+----------+---------+---------+--------------------+--------------+------------+--------------------+-------+------+------------+------------+-----------+----+----------+----+-----+-----+\n",
            "|andar|area_total|area_util|banheiros|     caracteristicas|        bairro|        zona|                  id|quartos|suites|tipo_anuncio|tipo_unidade|   tipo_uso|vaga|condominio|iptu| tipo|valor|\n",
            "+-----+----------+---------+---------+--------------------+--------------+------------+--------------------+-------+------+------------+------------+-----------+----+----------+----+-----+-----+\n",
            "|    0|          |       16|        0|                    |        Centro|Zona Central|47d553e0-79f2-4a4...|      0|     0|       Usado|      Outros|  Comercial|   1|       260| 107|Venda|10000|\n",
            "|    0|          |       14|        0|                    |        Centro|Zona Central|b6ffbae1-17f6-487...|      0|      |       Usado|      Outros|  Comercial|   0|       260| 107|Venda|10000|\n",
            "|    0|      1026|     1026|        0|                    |Maria da Graça|  Zona Norte|1fb030a5-9e3e-4a1...|      0|      |       Usado|      Outros|  Comercial|   0|          |1613|Venda|10000|\n",
            "|    0|       120|      120|        0|Portão eletrônico...|  Campo Grande|  Zona Oeste|ac6cb348-69d6-45a...|      0|      |       Usado|      Outros|Residencial|    |        80|    |Venda|10000|\n",
            "|    0|         3|        3|        0|                    | São Cristóvão|  Zona Norte|e032b908-ef42-4d4...|      0|      |       Usado|      Outros|Residencial|    |         0|   0|Venda| 5000|\n",
            "|    0|        20|       15|        1|                    |        Centro|Zona Central|df9cf0b8-b972-433...|      0|      |       Usado|      Outros|  Comercial|   1|       223|  87|Venda|18500|\n",
            "|    3|        43|       43|        1|Academia,Churrasq...|     Paciência|  Zona Oeste|d2e3a3aa-09b5-45a...|      2|      |       Usado| Apartamento|Residencial|   1|       245|    |Venda|15000|\n",
            "|    2|        42|       42|        1|Churrasqueira,Pla...|     Paciência|  Zona Oeste|085bab2c-87ad-452...|      2|      |       Usado| Apartamento|Residencial|   1|         0|   0|Venda|15000|\n",
            "|    0|          |       12|        0|Portaria 24h,Elev...|        Centro|Zona Central|096ad966-dc36-47b...|      0|      |       Usado|      Outros|  Comercial|   1|       250|    |Venda|20000|\n",
            "|    1|        41|       41|        1|Portaria 24h,Cond...|     Guaratiba|  Zona Oeste|18d22cbe-1b86-476...|      2|      |       Usado| Apartamento|Residencial|   1|         0|   0|Venda|20000|\n",
            "|    3|        43|       43|        1|Churrasqueira,Pis...|        Cosmos|  Zona Oeste|bed8a354-9317-442...|      2|      |       Usado| Apartamento|Residencial|   0|       285|    |Venda|20000|\n",
            "|    0|        10|        4|        0|Elevador,Portaria...|        Centro|Zona Central|b7d0fbd3-0b28-420...|      0|      |       Usado|      Outros|  Comercial|   0|       200|  86|Venda|11500|\n",
            "|    0|        12|       12|        1|        Portaria 24h|    Copacabana|    Zona Sul|c6571c11-166e-4a4...|      0|      |       Usado|      Outros|  Comercial|    |       470|    |Venda|12000|\n",
            "|    0|        17|       17|        0|            Elevador|        Centro|Zona Central|46d5b560-205f-45f...|      0|      |       Usado|      Outros|  Comercial|   1|       294|  98|Venda|18000|\n",
            "|    1|        32|       32|         |Elevador,Condomín...|        Centro|Zona Central|db197997-00e6-4d6...|       |      |       Usado|      Outros|  Comercial|   1|       684|    |Venda|15000|\n",
            "|    0|          |       10|        0|Elevador,Condomín...|         Saúde|Zona Central|835d4338-4aa9-4e4...|      0|      |       Usado|      Outros|  Comercial|    |         0| 120|Venda|20000|\n",
            "|    2|        43|       43|        1|Academia,Churrasq...|     Guaratiba|  Zona Oeste|12a13315-d67f-48f...|      2|      |       Usado| Apartamento|Residencial|   1|       245|    |Venda|15000|\n",
            "|    3|        43|       43|        1|Churrasqueira,Pis...|        Cosmos|  Zona Oeste|a2e6d7a5-0ff0-484...|      2|     0|       Usado| Apartamento|Residencial|   0|       285|    |Venda|20000|\n",
            "|    3|        43|       43|        1|Churrasqueira,Pla...|     Paciência|  Zona Oeste|a6e3173b-c950-4db...|      2|      |       Usado| Apartamento|Residencial|   1|       250|    |Venda|15000|\n",
            "|    3|        43|       43|        1|Churrasqueira,Pla...|     Guaratiba|  Zona Oeste|2e6e5dfb-206c-496...|      2|     0|       Usado| Apartamento|Residencial|   1|       245|    |Venda|15000|\n",
            "+-----+----------+---------+---------+--------------------+--------------+------------+--------------------+-------+------+------------+------------+-----------+----+----------+----+-----+-----+\n",
            "only showing top 20 rows\n",
            "\n"
          ]
        }
      ]
    },
    {
      "cell_type": "markdown",
      "source": [
        "## 1.3 Seleção dos valores de venda"
      ],
      "metadata": {
        "id": "vj0ziNO21vMi"
      }
    },
    {
      "cell_type": "code",
      "source": [
        "# Verificando todas as categorias de registros de tipo (4 tipos).\n",
        "# O anunciante pode registrar valores de venda ou de alguel na ordem que prefira.\n",
        "# Assim, os valores registrados nos arrays 'valor', 'iptu' e 'condomínio' seguem a referência estabelecida por 'tipo'\n",
        "\n",
        "dataset_anuncio_com_arrays\\\n",
        "    .groupby('tipo')\\\n",
        "    .count()\\\n",
        "    .show()"
      ],
      "metadata": {
        "colab": {
          "base_uri": "https://localhost:8080/"
        },
        "id": "XcMsml4Q1c9m",
        "outputId": "ded3e323-564c-4faf-99ce-79f78ae1d8dd"
      },
      "execution_count": 41,
      "outputs": [
        {
          "output_type": "stream",
          "name": "stdout",
          "text": [
            "+----------------+-----+\n",
            "|            tipo|count|\n",
            "+----------------+-----+\n",
            "|[Venda, Aluguel]| 1028|\n",
            "|  [Venda, Venda]|   92|\n",
            "|[Aluguel, Venda]|  811|\n",
            "|         [Venda]|87152|\n",
            "+----------------+-----+\n",
            "\n"
          ]
        }
      ]
    },
    {
      "cell_type": "code",
      "source": [
        "# Visualizando como ficaram os 5 linhas de valores de um dos quatro tipos:\n",
        "\n",
        "# 'Aluguel,Venda'\n",
        "dataset_anuncio\\\n",
        "    .select(dataset_anuncio.valor.alias('Valor: Aluguel, Venda')\\\n",
        "            ,dataset_anuncio.iptu\\\n",
        "            ,dataset_anuncio.condominio)\\\n",
        "    .where(dataset_anuncio.tipo=='Aluguel,Venda')\\\n",
        "    .show(5)\n",
        "\n",
        "# 'Venda'\n",
        "dataset_anuncio\\\n",
        "    .select(dataset_anuncio.valor.alias('Valor: Venda')\\\n",
        "           ,dataset_anuncio.iptu, dataset_anuncio.condominio)\\\n",
        "    .where(dataset_anuncio.tipo=='Venda')\\\n",
        "    .show(5)\n",
        "\n",
        "# 'Venda,Venda'\n",
        "dataset_anuncio\\\n",
        "    .select(dataset_anuncio.valor.alias('Valor: Venda, Venda')\\\n",
        "            ,dataset_anuncio.iptu, dataset_anuncio.condominio)\\\n",
        "    .where(dataset_anuncio.tipo=='Venda,Venda')\\\n",
        "    .show(5)\n",
        "\n",
        "# 'Venda,Aluguel'\n",
        "dataset_anuncio\\\n",
        "    .select(dataset_anuncio.valor.alias('Valor: Venda, Aluguel')\\\n",
        "            ,dataset_anuncio.iptu, dataset_anuncio.condominio)\\\n",
        "    .where(dataset_anuncio.tipo=='Venda,Aluguel')\\\n",
        "    .show(5)"
      ],
      "metadata": {
        "colab": {
          "base_uri": "https://localhost:8080/"
        },
        "id": "H9kPwIACG6vl",
        "outputId": "eb644238-3f90-496c-bb3e-77d7eb793d65"
      },
      "execution_count": 42,
      "outputs": [
        {
          "output_type": "stream",
          "name": "stdout",
          "text": [
            "+---------------------+-------+----------+\n",
            "|Valor: Aluguel, Venda|   iptu|condominio|\n",
            "+---------------------+-------+----------+\n",
            "|            500,15000|    117|       500|\n",
            "|            250,38000|107,107|   295,295|\n",
            "|            100,44000|126,126|   600,600|\n",
            "|            550,60000|115,115|       0,0|\n",
            "|            800,55000|    0,0|   200,200|\n",
            "+---------------------+-------+----------+\n",
            "only showing top 5 rows\n",
            "\n",
            "+------------+----+----------+\n",
            "|Valor: Venda|iptu|condominio|\n",
            "+------------+----+----------+\n",
            "|       10000| 107|       260|\n",
            "|       10000| 107|       260|\n",
            "|       10000|1613|          |\n",
            "|       10000|    |        80|\n",
            "|        5000|   0|         0|\n",
            "+------------+----+----------+\n",
            "only showing top 5 rows\n",
            "\n",
            "+-------------------+----+----------+\n",
            "|Valor: Venda, Venda|iptu|condominio|\n",
            "+-------------------+----+----------+\n",
            "|     149000,2263000| 0,0|       0,0|\n",
            "|      159000,169000| 0,0|       0,0|\n",
            "|      175000,300864| 0,0|       0,0|\n",
            "|      189000,239000| 0,0|       0,0|\n",
            "|      189000,299000| 0,0|       0,0|\n",
            "+-------------------+----+----------+\n",
            "only showing top 5 rows\n",
            "\n",
            "+---------------------+-------+----------+\n",
            "|Valor: Venda, Aluguel|   iptu|condominio|\n",
            "+---------------------+-------+----------+\n",
            "|            20000,400|    0,0|       0,0|\n",
            "|            38000,550|740,740|   380,380|\n",
            "|            38000,400|  25,25|     25,25|\n",
            "|            50000,400|116,116|   300,300|\n",
            "|            49000,700|  20,20|   350,350|\n",
            "+---------------------+-------+----------+\n",
            "only showing top 5 rows\n",
            "\n"
          ]
        }
      ]
    },
    {
      "cell_type": "code",
      "source": [
        "# A equipe de ciência de dados solicitou que fossem transmitidos somente os valores de venda (valor, iptu e condomínio)\n",
        "# para posterior análise de machine learning.\n",
        "\n",
        "# Os valores sobrescritos foram os posteriores à vírgula apenas para o tipo 'Aluguel,Venda', pois é o único caso\n",
        "# em que o valor pertinente está na segunda posição. Nos demais, o valor da string foi subtituído pelo valor \n",
        "# anterior à vírgula para os três valores de venda (valor, iptu, condomínio).\n",
        "\n",
        "from pyspark.sql.functions import substring_index, when\n",
        "\n",
        "# Substituição de 'valor'\n",
        "dataset_anuncio = dataset_anuncio\\\n",
        "    .withColumn('valor'\\\n",
        "                ,when(dataset_anuncio.tipo != ('Aluguel,Venda')\\\n",
        "                      ,substring_index(dataset_anuncio.valor, ',', 1))\\\n",
        "                .otherwise(substring_index(dataset_anuncio.valor, ',', -1)))\n",
        "\n",
        "# Substituição de 'iptu'\n",
        "dataset_anuncio = dataset_anuncio\\\n",
        "    .withColumn('iptu'\\\n",
        "                ,when(dataset_anuncio.tipo != ('Aluguel,Venda')\\\n",
        "                      ,substring_index(dataset_anuncio.iptu, ',', 1))\\\n",
        "                .otherwise(substring_index(dataset_anuncio.iptu, ',', -1)))\n",
        "    \n",
        "# Substituição de 'iptu'\n",
        "dataset_anuncio = dataset_anuncio\\\n",
        "    .withColumn('condominio'\\\n",
        "                ,when(dataset_anuncio.tipo != ('Aluguel,Venda')\\\n",
        "                      ,substring_index(dataset_anuncio.condominio, ',', 1))\\\n",
        "                .otherwise(substring_index(dataset_anuncio.condominio, ',', -1)))\n",
        "    \n",
        "# São selecionados novamente os valores das categorias, desta vez apenas com o componente de venda\n",
        "\n",
        "dataset_anuncio\\\n",
        "    .select(dataset_anuncio.valor.alias('Valor: Aluguel, Venda')\\\n",
        "            ,dataset_anuncio.iptu\\\n",
        "            ,dataset_anuncio.condominio)\\\n",
        "    .where(dataset_anuncio.tipo=='Aluguel,Venda')\\\n",
        "    .show(5)\n",
        "\n",
        "dataset_anuncio\\\n",
        "    .select(dataset_anuncio.valor.alias('Valor: Venda')\\\n",
        "           ,dataset_anuncio.iptu, dataset_anuncio.condominio)\\\n",
        "    .where(dataset_anuncio.tipo=='Venda')\\\n",
        "    .show(5)\n",
        "\n",
        "dataset_anuncio\\\n",
        "    .select(dataset_anuncio.valor.alias('Valor: Venda, Venda')\\\n",
        "            ,dataset_anuncio.iptu, dataset_anuncio.condominio)\\\n",
        "    .where(dataset_anuncio.tipo=='Venda,Venda')\\\n",
        "    .show(5)\n",
        "\n",
        "dataset_anuncio\\\n",
        "    .select(dataset_anuncio.valor.alias('Valor: Venda, Aluguel')\\\n",
        "            ,dataset_anuncio.iptu, dataset_anuncio.condominio)\\\n",
        "    .where(dataset_anuncio.tipo=='Venda,Aluguel')\\\n",
        "    .show(5)"
      ],
      "metadata": {
        "colab": {
          "base_uri": "https://localhost:8080/"
        },
        "id": "28mkybuBNJUO",
        "outputId": "90d4d5b3-0fac-4f2d-b384-f0fc897ff19d"
      },
      "execution_count": null,
      "outputs": [
        {
          "output_type": "stream",
          "name": "stdout",
          "text": [
            "+---------------------+----+----------+\n",
            "|Valor: Aluguel, Venda|iptu|condominio|\n",
            "+---------------------+----+----------+\n",
            "|                15000| 117|       500|\n",
            "|                38000| 107|       295|\n",
            "|                44000| 126|       600|\n",
            "|                60000| 115|         0|\n",
            "|                55000|   0|       200|\n",
            "+---------------------+----+----------+\n",
            "only showing top 5 rows\n",
            "\n"
          ]
        }
      ]
    },
    {
      "cell_type": "markdown",
      "source": [
        "## 1.4 Filtragem das categorias"
      ],
      "metadata": {
        "id": "zyoKml_aotIO"
      }
    },
    {
      "cell_type": "code",
      "source": [
        "# Tabela de frequências das categorias a serem filtradas a pedido do time de ciência de dados\n",
        "\n",
        "dataset_anuncio.groupby('tipo_uso').count().show()\n",
        "dataset_anuncio.groupby('tipo_unidade').count().show()\n",
        "dataset_anuncio.groupby('tipo_anuncio').count().show()"
      ],
      "metadata": {
        "id": "NQTS377FBocg"
      },
      "execution_count": null,
      "outputs": []
    },
    {
      "cell_type": "code",
      "source": [
        "# Aplicação dos filtros de categoria (residencial, apartamento e usado)\n",
        "\n",
        "dataset_anuncio = dataset_anuncio.filter(dataset_anuncio.tipo_uso == 'Residencial')\n",
        "dataset_anuncio = dataset_anuncio.filter(dataset_anuncio.tipo_unidade == 'Apartamento')\n",
        "dataset_anuncio = dataset_anuncio.filter(dataset_anuncio.tipo_anuncio == 'Usado')\n",
        "\n",
        "dataset_anuncio.groupby('tipo_uso').count().show()\n",
        "dataset_anuncio.groupby('tipo_unidade').count().show()\n",
        "dataset_anuncio.groupby('tipo_anuncio').count().show()"
      ],
      "metadata": {
        "id": "YvkjS3uR4vuC"
      },
      "execution_count": null,
      "outputs": []
    },
    {
      "cell_type": "markdown",
      "source": [
        "Comparando o dicionário com o df obtido do arquivo JSON, é possível verificar que há variáveis que não foram declaradas com o tipo adequado:\n",
        " - area total, area util, condomínio, iptu, valor (são strings)\n",
        " - banheiros, quartos, suites, andar, vaga (são longs)"
      ],
      "metadata": {
        "id": "E6wDJgGPck9o"
      }
    },
    {
      "cell_type": "code",
      "source": [
        "from pyspark.sql.types import DoubleType, IntegerType # Importando os tipos de variáveis\n",
        "\n",
        "# Removendo coluna 'tipo', que não tem mais utilidade, pois só há valores de venda agora\n",
        "dataset_anuncio = dataset_anuncio.drop('tipo') \n",
        "\n",
        "# Passando variáveis para int\n",
        "dataset_anuncio = dataset_anuncio.withColumn('andar', dataset_anuncio.andar.cast(IntegerType()))\n",
        "dataset_anuncio = dataset_anuncio.withColumn('area_total', dataset_anuncio.area_total.cast(IntegerType()))\n",
        "dataset_anuncio = dataset_anuncio.withColumn('area_util', dataset_anuncio.area_util.cast(IntegerType()))\n",
        "dataset_anuncio = dataset_anuncio.withColumn('quartos', dataset_anuncio.quartos.cast(IntegerType()))\n",
        "dataset_anuncio = dataset_anuncio.withColumn('suites', dataset_anuncio.area_total.cast(IntegerType()))\n",
        "dataset_anuncio = dataset_anuncio.withColumn('banheiros', dataset_anuncio.banheiros.cast(IntegerType()))\n",
        "\n",
        "# Transformando valores em double\n",
        "dataset_anuncio = dataset_anuncio.withColumn('condominio', dataset_anuncio.condominio.cast(DoubleType()))\n",
        "dataset_anuncio = dataset_anuncio.withColumn('iptu', dataset_anuncio.iptu.cast(DoubleType()))\n",
        "dataset_anuncio = dataset_anuncio.withColumn('valor', dataset_anuncio.valor.cast(DoubleType()))\n",
        "\n",
        "# Esquema com as variáveis modificadas\n",
        "dataset_anuncio.printSchema() "
      ],
      "metadata": {
        "id": "rIo_FRSrwRZv"
      },
      "execution_count": null,
      "outputs": []
    },
    {
      "cell_type": "markdown",
      "source": [
        "## 1.5 Salvando como parquet"
      ],
      "metadata": {
        "id": "p-AIyeNgpS4D"
      }
    },
    {
      "cell_type": "code",
      "source": [
        "dataset_anuncio.write\\\n",
        "    .parquet(\\\n",
        "             path='/content/drive/MyDrive/Alura/Challenge_DS_2ed/dataset_anuncio_tratado'\\\n",
        "             ,mode='overwrite')"
      ],
      "metadata": {
        "id": "R2qC4JkGpaMH"
      },
      "execution_count": null,
      "outputs": []
    },
    {
      "cell_type": "markdown",
      "source": [
        "## 1.6 Tratamento dos valores null e nan"
      ],
      "metadata": {
        "id": "GUQK-WoDoZXt"
      }
    },
    {
      "cell_type": "markdown",
      "source": [
        "# 2.0 Ciência de Dados - Modelo de Regressão"
      ],
      "metadata": {
        "id": "bHUwx0eRszZx"
      }
    },
    {
      "cell_type": "markdown",
      "source": [
        "## 2.1 Trocando os tipos das variáveis"
      ],
      "metadata": {
        "id": "BSqtLmTDpV58"
      }
    },
    {
      "cell_type": "code",
      "source": [
        "from pyspark.sql import functions as f # Importando funções sql"
      ],
      "metadata": {
        "id": "0_kAgB2MxYrV"
      },
      "execution_count": null,
      "outputs": []
    },
    {
      "cell_type": "code",
      "source": [
        "# Contagem dos elementos NAN\n",
        "dataset_anuncio\\\n",
        "    .select([f.count(f.when(f.isnan(c), True)).alias(c) for c in dataset_anuncio.columns])\\\n",
        "    .show()\n",
        "\n",
        "# Contagem dos elementos NULOS\n",
        "dataset_anuncio\\\n",
        "    .select([f.count(f.when(f.isnull(c), True)).alias(c) for c in dataset_anuncio.columns])\\\n",
        "    .show()\n",
        "\n",
        "# Há muitos valores que repetem o que foi registrado na coluna 'area_util', ocasionando em alta correlação.\n",
        "# Optou-se por excluir a coluna 'area_total' pois ela apresenta muito mais elementos nulos que a 'area_util'.\n",
        "dataset_anuncio = dataset_anuncio.drop('area_total')\n",
        "\n",
        "# Preenchendo nulos com zeros\n",
        "dataset_anuncio = dataset_anuncio.na.fill(0)\n",
        "\n",
        "# Nova contagem dos elementos NULOS\n",
        "dataset_anuncio\\\n",
        "    .select([f.count(f.when(f.isnull(c), True)).alias(c) for c in dataset_anuncio.columns])\\"
      ],
      "metadata": {
        "id": "LlAfQGbWKbcV"
      },
      "execution_count": null,
      "outputs": []
    },
    {
      "cell_type": "code",
      "source": [],
      "metadata": {
        "id": "aTp7Bvb1s6p4"
      },
      "execution_count": null,
      "outputs": []
    },
    {
      "cell_type": "markdown",
      "source": [
        "# 3.0 Ciência de Dados - Modelo de Clusterização"
      ],
      "metadata": {
        "id": "2Mbrkd75zB5I"
      }
    },
    {
      "cell_type": "code",
      "source": [],
      "metadata": {
        "id": "YSW-2omczHU7"
      },
      "execution_count": null,
      "outputs": []
    }
  ]
}